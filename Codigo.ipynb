{
 "cells": [
  {
   "cell_type": "code",
   "execution_count": 1,
   "metadata": {},
   "outputs": [],
   "source": [
    "# En python podemos importar paquetes de software y ponerles un alias usando \"as\"\n",
    "import numpy as np # Numpy es una librería de programación numérica\n",
    "import scipy as sp # Scipy tiene funcionos estadísticas\n",
    "import matplotlib as mpl # Importa matplotlib, librería para graficar\n",
    "import matplotlib.cm as cm # nos permite rápido acceso a colormaps\n",
    "import matplotlib.pyplot as plt # sets up plotting under plt\n",
    "import pandas as pd # Nos permite manejar data como dataframes\n",
    "import seaborn as sns # Define estilos y nos da más opciones para plotting"
   ]
  }
 ],
 "metadata": {
  "kernelspec": {
   "display_name": "firsttime",
   "language": "python",
   "name": "python3"
  },
  "language_info": {
   "codemirror_mode": {
    "name": "ipython",
    "version": 3
   },
   "file_extension": ".py",
   "mimetype": "text/x-python",
   "name": "python",
   "nbconvert_exporter": "python",
   "pygments_lexer": "ipython3",
   "version": "3.8.15"
  },
  "orig_nbformat": 4
 },
 "nbformat": 4,
 "nbformat_minor": 2
}
